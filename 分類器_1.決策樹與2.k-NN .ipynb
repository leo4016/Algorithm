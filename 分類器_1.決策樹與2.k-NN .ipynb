{
 "cells": [
  {
   "cell_type": "markdown",
   "metadata": {},
   "source": [
    "# 2種分類器：1.決策樹分類器2.k-Nearest Neighbors\n",
    "## 學習地圖：練習 Python 的機器學習套件 scikit-learn，切分熟悉的鳶尾花資料成為訓練與測試資料，並建立了一個決策樹分類器以及一個 k-Nearest Neighbors 分類器，讓程式幫我們選擇合適的 k 值，並且與 R 語言相互對照。"
   ]
  },
  {
   "cell_type": "markdown",
   "metadata": {},
   "source": [
    "## 決策樹分類器\n",
    "## 決策樹分類器（Decision Tree Classifiers）是可以處理多元分類問題的演算法\n",
    "### ---------------------------------------------------------------------------------------------------------------------------------------------------------------\n",
    "## 2項優點:\n",
    "### (1)可以同時處理連續型與類別型變數\n",
    "### (2)不需要進行太多的資料預處理（Preprocessing），像是昨天我們在建立 Logistic 迴歸前得將 Pclass 與 Sex 這兩個變數創造成 dummy variables，但是決策樹分類器不需要\n"
   ]
  },
  {
   "cell_type": "markdown",
   "metadata": {},
   "source": [
    "1.建模及預測分類"
   ]
  },
  {
   "cell_type": "code",
   "execution_count": 1,
   "metadata": {},
   "outputs": [
    {
     "name": "stdout",
     "output_type": "stream",
     "text": [
      "[2 0 0 0 0 0 1 0 1 1 0 2 1 1 2 2 1 1 0 2 0 2 0 1 0 0 1 1 0 0 1 0 2 2 2 1 0\n",
      " 1 1 2 2 1 0 1 1]\n",
      "[2 0 0 0 0 0 1 0 1 1 0 2 2 1 2 2 1 1 0 2 0 2 0 1 0 0 1 1 0 0 1 0 1 2 2 1 0\n",
      " 1 2 2 2 1 0 1 2]\n"
     ]
    },
    {
     "name": "stderr",
     "output_type": "stream",
     "text": [
      "C:\\Users\\leo\\Anaconda3\\lib\\site-packages\\sklearn\\cross_validation.py:41: DeprecationWarning: This module was deprecated in version 0.18 in favor of the model_selection module into which all the refactored classes and functions are moved. Also note that the interface of the new CV iterators are different from that of this module. This module will be removed in 0.20.\n",
      "  \"This module will be removed in 0.20.\", DeprecationWarning)\n"
     ]
    }
   ],
   "source": [
    "from sklearn.datasets import load_iris\n",
    "from sklearn import tree\n",
    "from sklearn.cross_validation import train_test_split\n",
    "\n",
    "# 讀入鳶尾花資料\n",
    "iris = load_iris()\n",
    "iris_X = iris.data\n",
    "iris_y = iris.target\n",
    "\n",
    "# 切分訓練與測試資料\n",
    "train_X, test_X, train_y, test_y = train_test_split(iris_X, iris_y, test_size = 0.3)\n",
    "\n",
    "# 建立分類器\n",
    "clf = tree.DecisionTreeClassifier()\n",
    "iris_clf = clf.fit(train_X, train_y)\n",
    "\n",
    "# 預測\n",
    "test_y_predicted = iris_clf.predict(test_X)\n",
    "print(test_y_predicted)\n",
    "\n",
    "# 標準答案\n",
    "print(test_y)"
   ]
  },
  {
   "cell_type": "markdown",
   "metadata": {},
   "source": [
    "２.看正確率"
   ]
  },
  {
   "cell_type": "code",
   "execution_count": 4,
   "metadata": {},
   "outputs": [
    {
     "name": "stdout",
     "output_type": "stream",
     "text": [
      "0.955555555556\n"
     ]
    }
   ],
   "source": [
    "# 預測\n",
    "test_y_predicted = iris_clf.predict(test_X)\n",
    "\n",
    "# 績效\n",
    "accuracy = metrics.accuracy_score(test_y, test_y_predicted)\n",
    "print(accuracy)"
   ]
  },
  {
   "cell_type": "code",
   "execution_count": null,
   "metadata": {
    "collapsed": true
   },
   "outputs": [],
   "source": []
  },
  {
   "cell_type": "markdown",
   "metadata": {},
   "source": [
    "# k-Nearest Neighbors 分類器\n",
    "### k-Nearest Neighbors 分類器同樣也是可以處理多元分類問題的演算法，由於是以距離作為未知類別的資料點分類依據，必須要將類別變數轉換為 dummy variables 然後將所有的數值型變數標準化，避免因為單位不同，在距離的計算上失真。"
   ]
  },
  {
   "cell_type": "markdown",
   "metadata": {},
   "source": [
    "１.建模及預測"
   ]
  },
  {
   "cell_type": "code",
   "execution_count": 5,
   "metadata": {
    "scrolled": false
   },
   "outputs": [
    {
     "name": "stdout",
     "output_type": "stream",
     "text": [
      "[2 0 0 1 2 2 2 2 1 0 2 1 2 0 2 2 0 2 2 0 2 2 2 2 2 0 0 2 2 1 2 0 2 2 1 0 0\n",
      " 1 2 1 1 1 2 0 1]\n",
      "[2 0 0 1 2 2 2 2 1 0 2 1 2 0 2 2 0 2 2 0 2 2 2 2 2 0 0 2 1 1 2 0 2 2 1 0 0\n",
      " 1 1 1 1 1 2 0 1]\n"
     ]
    }
   ],
   "source": [
    "from sklearn.datasets import load_iris\n",
    "from sklearn import neighbors\n",
    "from sklearn.cross_validation import train_test_split\n",
    "from sklearn import metrics\n",
    "\n",
    "# 讀入鳶尾花資料\n",
    "iris = load_iris()\n",
    "iris_X = iris.data\n",
    "iris_y = iris.target\n",
    "\n",
    "# 切分訓練與測試資料\n",
    "train_X, test_X, train_y, test_y = train_test_split(iris_X, iris_y, test_size = 0.3)\n",
    "\n",
    "# 建立分類器\n",
    "clf = neighbors.KNeighborsClassifier()\n",
    "iris_clf = clf.fit(train_X, train_y)\n",
    "\n",
    "# 預測\n",
    "test_y_predicted = iris_clf.predict(test_X)\n",
    "print(test_y_predicted)\n",
    "\n",
    "# 標準答案\n",
    "print(test_y)"
   ]
  },
  {
   "cell_type": "code",
   "execution_count": null,
   "metadata": {
    "collapsed": true
   },
   "outputs": [],
   "source": []
  },
  {
   "cell_type": "markdown",
   "metadata": {},
   "source": [
    "2.讓程式幫我們選擇一個適合的 k，通常 k 的上限為訓練樣本數的 20%"
   ]
  },
  {
   "cell_type": "code",
   "execution_count": 12,
   "metadata": {},
   "outputs": [
    {
     "data": {
      "image/png": "[encoded data removed]",
      "text/plain": [
       "<matplotlib.figure.Figure at 0x21fc8bc3ba8>"
      ]
     },
     "metadata": {},
     "output_type": "display_data"
    },
    {
     "name": "stdout",
     "output_type": "stream",
     "text": [
      "5\n"
     ]
    }
   ],
   "source": [
    "from sklearn.datasets import load_iris\n",
    "from sklearn import neighbors\n",
    "from sklearn.cross_validation import train_test_split\n",
    "from sklearn import metrics\n",
    "import numpy as np\n",
    "import matplotlib.pyplot as plt\n",
    "\n",
    "# 讀入鳶尾花資料\n",
    "iris = load_iris()\n",
    "iris_X = iris.data\n",
    "iris_y = iris.target\n",
    "\n",
    "# 切分訓練與測試資料\n",
    "train_X, test_X, train_y, test_y = train_test_split(iris_X, iris_y, test_size = 0.3)\n",
    "\n",
    "# 選擇 k\n",
    "range = np.arange(1, round(0.2 * train_X.shape[0]) + 1)\n",
    "accuracies = []\n",
    "\n",
    "for i in range:\n",
    "    clf = neighbors.KNeighborsClassifier(n_neighbors = i)\n",
    "    iris_clf = clf.fit(train_X, train_y)\n",
    "    test_y_predicted = iris_clf.predict(test_X)\n",
    "    accuracy = metrics.accuracy_score(test_y, test_y_predicted)\n",
    "    accuracies.append(accuracy)\n",
    "\n",
    "# 視覺化\n",
    "plt.scatter(range, accuracies)\n",
    "plt.show()\n",
    "appr_k = accuracies.index(max(accuracies)) + 1\n",
    "print(appr_k)"
   ]
  },
  {
   "cell_type": "code",
   "execution_count": null,
   "metadata": {
    "collapsed": true
   },
   "outputs": [],
   "source": []
  }
 ],
 "metadata": {
  "kernelspec": {
   "display_name": "Python 3",
   "language": "python",
   "name": "python3"
  },
  "language_info": {
   "codemirror_mode": {
    "name": "ipython",
    "version": 3
   },
   "file_extension": ".py",
   "mimetype": "text/x-python",
   "name": "python",
   "nbconvert_exporter": "python",
   "pygments_lexer": "ipython3",
   "version": "3.6.2"
  }
 },
 "nbformat": 4,
 "nbformat_minor": 2
}
