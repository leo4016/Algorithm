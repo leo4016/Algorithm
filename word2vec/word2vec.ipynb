{
 "cells": [
  {
   "cell_type": "code",
   "execution_count": 13,
   "metadata": {},
   "outputs": [
    {
     "name": "stdout",
     "output_type": "stream",
     "text": [
      "Requirement already satisfied: gensim in c:\\users\\leo\\anaconda3\\lib\\site-packages\n",
      "Requirement already satisfied: smart-open>=1.2.1 in c:\\users\\leo\\anaconda3\\lib\\site-packages (from gensim)\n",
      "Requirement already satisfied: six>=1.5.0 in c:\\users\\leo\\anaconda3\\lib\\site-packages (from gensim)\n",
      "Requirement already satisfied: scipy>=0.18.1 in c:\\users\\leo\\anaconda3\\lib\\site-packages (from gensim)\n",
      "Requirement already satisfied: numpy>=1.11.3 in c:\\users\\leo\\anaconda3\\lib\\site-packages (from gensim)\n",
      "Requirement already satisfied: boto>=2.32 in c:\\users\\leo\\anaconda3\\lib\\site-packages (from smart-open>=1.2.1->gensim)\n",
      "Requirement already satisfied: requests in c:\\users\\leo\\anaconda3\\lib\\site-packages (from smart-open>=1.2.1->gensim)\n",
      "Requirement already satisfied: bz2file in c:\\users\\leo\\anaconda3\\lib\\site-packages (from smart-open>=1.2.1->gensim)\n",
      "Requirement already satisfied: boto3 in c:\\users\\leo\\anaconda3\\lib\\site-packages (from smart-open>=1.2.1->gensim)\n",
      "Requirement already satisfied: chardet<3.1.0,>=3.0.2 in c:\\users\\leo\\anaconda3\\lib\\site-packages (from requests->smart-open>=1.2.1->gensim)\n",
      "Requirement already satisfied: idna<2.7,>=2.5 in c:\\users\\leo\\anaconda3\\lib\\site-packages (from requests->smart-open>=1.2.1->gensim)\n",
      "Requirement already satisfied: urllib3<1.23,>=1.21.1 in c:\\users\\leo\\anaconda3\\lib\\site-packages (from requests->smart-open>=1.2.1->gensim)\n",
      "Requirement already satisfied: certifi>=2017.4.17 in c:\\users\\leo\\anaconda3\\lib\\site-packages (from requests->smart-open>=1.2.1->gensim)\n",
      "Requirement already satisfied: botocore<1.9.0,>=1.8.27 in c:\\users\\leo\\anaconda3\\lib\\site-packages (from boto3->smart-open>=1.2.1->gensim)\n",
      "Requirement already satisfied: jmespath<1.0.0,>=0.7.1 in c:\\users\\leo\\anaconda3\\lib\\site-packages (from boto3->smart-open>=1.2.1->gensim)\n",
      "Requirement already satisfied: s3transfer<0.2.0,>=0.1.10 in c:\\users\\leo\\anaconda3\\lib\\site-packages (from boto3->smart-open>=1.2.1->gensim)\n",
      "Requirement already satisfied: docutils>=0.10 in c:\\users\\leo\\anaconda3\\lib\\site-packages (from botocore<1.9.0,>=1.8.27->boto3->smart-open>=1.2.1->gensim)\n",
      "Requirement already satisfied: python-dateutil<3.0.0,>=2.1 in c:\\users\\leo\\anaconda3\\lib\\site-packages (from botocore<1.9.0,>=1.8.27->boto3->smart-open>=1.2.1->gensim)\n"
     ]
    }
   ],
   "source": [
    "!pip install gensim\n",
    "\n"
   ]
  },
  {
   "cell_type": "code",
   "execution_count": 14,
   "metadata": {
    "scrolled": true
   },
   "outputs": [],
   "source": [
    "from gensim.models import Word2Vec\n",
    "from gensim.models import word2vec"
   ]
  },
  {
   "cell_type": "code",
   "execution_count": 15,
   "metadata": {
    "collapsed": true
   },
   "outputs": [],
   "source": [
    "### 避免大量讀取所以採用Text8Corpus 或 LineSentence\n",
    "sentences = word2vec.Text8Corpus(\"All_news.txt\")"
   ]
  },
  {
   "cell_type": "code",
   "execution_count": 16,
   "metadata": {
    "collapsed": true
   },
   "outputs": [],
   "source": [
    "model = Word2Vec(sentences, size=100, window=5, min_count=40, workers=4)"
   ]
  },
  {
   "cell_type": "code",
   "execution_count": 17,
   "metadata": {
    "collapsed": true
   },
   "outputs": [],
   "source": [
    "model.init_sims(replace=True)"
   ]
  },
  {
   "cell_type": "code",
   "execution_count": 18,
   "metadata": {
    "collapsed": true
   },
   "outputs": [],
   "source": [
    "model_name = \"train_model\"\n",
    "model.save(model_name)"
   ]
  },
  {
   "cell_type": "code",
   "execution_count": 19,
   "metadata": {
    "collapsed": true
   },
   "outputs": [],
   "source": [
    "model = Word2Vec.load(\"train_model\")"
   ]
  },
  {
   "cell_type": "code",
   "execution_count": 9,
   "metadata": {},
   "outputs": [
    {
     "data": {
      "text/plain": [
       "array([ 0.09734203,  0.15291631,  0.00323371,  0.15016748,  0.08653659,\n",
       "        0.09252352, -0.12164846, -0.00323123,  0.06642219,  0.0472066 ,\n",
       "        0.07118587, -0.13625947, -0.0290433 , -0.1373008 ,  0.02574821,\n",
       "        0.09381877, -0.10010713,  0.06993028,  0.02690827,  0.13498007,\n",
       "       -0.05120729,  0.04677242,  0.10929538, -0.013148  ,  0.0499339 ,\n",
       "        0.08894923,  0.02386151, -0.13265239, -0.07299016, -0.07827841,\n",
       "       -0.01855917, -0.09722991,  0.07735454, -0.06941815, -0.07511904,\n",
       "        0.11518708,  0.01846711,  0.25833267,  0.20030095,  0.06364445,\n",
       "        0.07693309,  0.07063691, -0.07505734, -0.0542137 , -0.05739264,\n",
       "       -0.01578892, -0.00480661, -0.15179762, -0.21267241, -0.18823938,\n",
       "       -0.02243282,  0.02577747, -0.10855998,  0.05636866,  0.08145057,\n",
       "       -0.03271861, -0.10201476, -0.06777284,  0.02661381,  0.07291412,\n",
       "       -0.04914206,  0.08961806, -0.02905705,  0.1109295 , -0.03092778,\n",
       "        0.191974  , -0.15854117, -0.03600385,  0.10374249,  0.01437658,\n",
       "       -0.19881494, -0.25681081, -0.11488769,  0.00586141,  0.06783271,\n",
       "        0.0764522 , -0.03351465,  0.06562475, -0.05913344, -0.00841615,\n",
       "       -0.04636362,  0.09921049, -0.18882139,  0.09035812, -0.13511582,\n",
       "        0.12983312,  0.00456686, -0.11244705,  0.00628536,  0.0799531 ,\n",
       "       -0.08782926, -0.04607685,  0.10574172, -0.17384547, -0.11172464,\n",
       "       -0.00224481, -0.10625839,  0.07420498,  0.02822281, -0.11313218], dtype=float32)"
      ]
     },
     "execution_count": 9,
     "metadata": {},
     "output_type": "execute_result"
    }
   ],
   "source": [
    "### 這個字的向量，因為我設size=100，所以它有100個向量\n",
    "model.wv[\"反服貿\"]"
   ]
  },
  {
   "cell_type": "code",
   "execution_count": 32,
   "metadata": {},
   "outputs": [
    {
     "name": "stderr",
     "output_type": "stream",
     "text": [
      "C:\\Users\\Leo\\Anaconda3\\lib\\site-packages\\ipykernel_launcher.py:2: DeprecationWarning: Call to deprecated `similarity` (Method will be removed in 4.0.0, use self.wv.similarity() instead).\n",
      "  \n"
     ]
    },
    {
     "data": {
      "text/plain": [
       "0.55167078253553614"
      ]
     },
     "execution_count": 32,
     "metadata": {},
     "output_type": "execute_result"
    }
   ],
   "source": [
    "### 計算柯文哲和柯文哲的相似度\n",
    "model.similarity(\"國民黨\",\"親民黨\")"
   ]
  },
  {
   "cell_type": "code",
   "execution_count": 11,
   "metadata": {},
   "outputs": [
    {
     "name": "stderr",
     "output_type": "stream",
     "text": [
      "C:\\Users\\Leo\\Anaconda3\\lib\\site-packages\\ipykernel_launcher.py:1: DeprecationWarning: Call to deprecated `similarity` (Method will be removed in 4.0.0, use self.wv.similarity() instead).\n",
      "  \"\"\"Entry point for launching an IPython kernel.\n"
     ]
    },
    {
     "data": {
      "text/plain": [
       "0.3123881442763885"
      ]
     },
     "execution_count": 11,
     "metadata": {},
     "output_type": "execute_result"
    }
   ],
   "source": [
    "model.similarity(\"柯文哲\",\"蔡英文\")"
   ]
  },
  {
   "cell_type": "code",
   "execution_count": 40,
   "metadata": {},
   "outputs": [
    {
     "data": {
      "text/plain": [
       "[('小英', 0.8059474229812622),\n",
       " ('蔡主席', 0.6423754692077637),\n",
       " ('馬英九', 0.6277182102203369),\n",
       " ('蔡英文會', 0.6272523999214172),\n",
       " ('蔡英文還', 0.6209103465080261),\n",
       " ('新政府', 0.6030330657958984),\n",
       " ('蘇貞昌', 0.5332928895950317),\n",
       " ('蔡在', 0.5329639911651611),\n",
       " ('朱主席', 0.5285556316375732),\n",
       " ('宋楚瑜', 0.513600766658783),\n",
       " ('朱立倫', 0.4982890486717224),\n",
       " ('當選人', 0.4961273670196533),\n",
       " ('朱立倫昨', 0.49459683895111084),\n",
       " ('辜寬敏', 0.48696982860565186),\n",
       " ('誰當', 0.4852890968322754),\n",
       " ('洪秀柱', 0.48195284605026245),\n",
       " ('賴揆', 0.47738468647003174),\n",
       " ('民進黨', 0.47289764881134033),\n",
       " ('文告', 0.46220260858535767),\n",
       " ('吳釗燮', 0.46069562435150146)]"
      ]
     },
     "execution_count": 40,
     "metadata": {},
     "output_type": "execute_result"
    }
   ],
   "source": [
    "model.wv.most_similar(positive=['蔡英文'], topn=20)"
   ]
  },
  {
   "cell_type": "code",
   "execution_count": 44,
   "metadata": {
    "scrolled": true
   },
   "outputs": [
    {
     "data": {
      "text/plain": [
       "[('新政府', 0.4179016649723053),\n",
       " ('觀選團', 0.35605359077453613),\n",
       " ('吳釗燮', 0.35520485043525696),\n",
       " ('美方', 0.34779882431030273),\n",
       " ('國防', 0.34642183780670166),\n",
       " ('李明哲', 0.3450198769569397),\n",
       " ('新南向', 0.3379991054534912),\n",
       " ('演說', 0.33602020144462585),\n",
       " ('此次', 0.3335273563861847),\n",
       " ('展示', 0.329950213432312),\n",
       " ('中方', 0.3293512165546417),\n",
       " ('陸方', 0.3270164430141449),\n",
       " ('民團', 0.3265821933746338),\n",
       " ('憲改', 0.32490700483322144),\n",
       " ('凍獨', 0.3248211741447449),\n",
       " ('小英', 0.3230292499065399),\n",
       " ('此行', 0.32288599014282227),\n",
       " ('民間團體', 0.32287317514419556),\n",
       " ('美日', 0.3225542902946472),\n",
       " ('一系列', 0.3201894164085388)]"
      ]
     },
     "execution_count": 44,
     "metadata": {},
     "output_type": "execute_result"
    }
   ],
   "source": [
    "### \"反服貿\"-\"黑箱\" == \"獵雷艦\"-\"?\"\n",
    "model.wv.most_similar(positive=['蔡英文'],negative=['誰當'], topn=20)"
   ]
  },
  {
   "cell_type": "code",
   "execution_count": null,
   "metadata": {
    "collapsed": true
   },
   "outputs": [],
   "source": []
  }
 ],
 "metadata": {
  "kernelspec": {
   "display_name": "Python 3",
   "language": "python",
   "name": "python3"
  },
  "language_info": {
   "codemirror_mode": {
    "name": "ipython",
    "version": 3
   },
   "file_extension": ".py",
   "mimetype": "text/x-python",
   "name": "python",
   "nbconvert_exporter": "python",
   "pygments_lexer": "ipython3",
   "version": "3.6.3"
  }
 },
 "nbformat": 4,
 "nbformat_minor": 2
}
