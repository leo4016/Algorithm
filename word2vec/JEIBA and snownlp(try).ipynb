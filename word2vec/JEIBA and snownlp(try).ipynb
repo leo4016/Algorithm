{
 "cells": [
  {
   "cell_type": "code",
   "execution_count": 2,
   "metadata": {},
   "outputs": [
    {
     "name": "stdout",
     "output_type": "stream",
     "text": [
      "Collecting jieba\n",
      "  Downloading jieba-0.39.zip (7.3MB)\n",
      "Building wheels for collected packages: jieba\n",
      "  Running setup.py bdist_wheel for jieba: started\n",
      "  Running setup.py bdist_wheel for jieba: finished with status 'done'\n",
      "  Stored in directory: C:\\Users\\Leo\\AppData\\Local\\pip\\Cache\\wheels\\ce\\32\\de\\c2be1db5f30804bc7f146ff698c52963f8aa11ba5049811b0d\n",
      "Successfully built jieba\n",
      "Installing collected packages: jieba\n",
      "Successfully installed jieba-0.39\n"
     ]
    }
   ],
   "source": [
    "! pip install jieba"
   ]
  },
  {
   "cell_type": "code",
   "execution_count": 4,
   "metadata": {},
   "outputs": [
    {
     "name": "stdout",
     "output_type": "stream",
     "text": [
      "Collecting snownlp\n",
      "  Downloading snownlp-0.12.3.tar.gz (37.6MB)\n",
      "Building wheels for collected packages: snownlp\n",
      "  Running setup.py bdist_wheel for snownlp: started\n",
      "  Running setup.py bdist_wheel for snownlp: finished with status 'done'\n",
      "  Stored in directory: C:\\Users\\Leo\\AppData\\Local\\pip\\Cache\\wheels\\1f\\da\\14\\720f3df19515fffb40cc67c56e1ae8dced5c9fea7fe4796dd9\n",
      "Successfully built snownlp\n",
      "Installing collected packages: snownlp\n",
      "Successfully installed snownlp-0.12.3\n"
     ]
    }
   ],
   "source": [
    "! pip install snownlp\n"
   ]
  },
  {
   "cell_type": "code",
   "execution_count": 5,
   "metadata": {},
   "outputs": [],
   "source": [
    "from snownlp import SnowNLP"
   ]
  },
  {
   "cell_type": "code",
   "execution_count": 6,
   "metadata": {
    "collapsed": true
   },
   "outputs": [],
   "source": [
    "# 给定一句话，内容是“这个东西真心很赞”，用SnowNLP分析\n",
    "s = SnowNLP(u'这个东西真心很赞')\n"
   ]
  },
  {
   "cell_type": "code",
   "execution_count": 7,
   "metadata": {},
   "outputs": [
    {
     "data": {
      "text/plain": [
       "['这个', '东西', '真心', '很', '赞']"
      ]
     },
     "execution_count": 7,
     "metadata": {},
     "output_type": "execute_result"
    }
   ],
   "source": [
    "s.words "
   ]
  },
  {
   "cell_type": "code",
   "execution_count": 8,
   "metadata": {},
   "outputs": [
    {
     "data": {
      "text/plain": [
       "<zip at 0x23ad91ddd88>"
      ]
     },
     "execution_count": 8,
     "metadata": {},
     "output_type": "execute_result"
    }
   ],
   "source": [
    "s.tags  "
   ]
  },
  {
   "cell_type": "code",
   "execution_count": 9,
   "metadata": {},
   "outputs": [
    {
     "data": {
      "text/plain": [
       "0.9769551298267365"
      ]
     },
     "execution_count": 9,
     "metadata": {},
     "output_type": "execute_result"
    }
   ],
   "source": [
    "s.sentiments \n",
    "# 分析这句话的情感倾向，取值为（0，1），越靠近1，情感正向的概率越大"
   ]
  },
  {
   "cell_type": "code",
   "execution_count": 10,
   "metadata": {},
   "outputs": [
    {
     "data": {
      "text/plain": [
       "['zhe', 'ge', 'dong', 'xi', 'zhen', 'xin', 'hen', 'zan']"
      ]
     },
     "execution_count": 10,
     "metadata": {},
     "output_type": "execute_result"
    }
   ],
   "source": [
    "# 把这句话中的词转化为拼音\n",
    "s.pinyin"
   ]
  },
  {
   "cell_type": "code",
   "execution_count": 11,
   "metadata": {},
   "outputs": [
    {
     "data": {
      "text/plain": [
       "'「繁体字」「繁体中文」的叫法在台湾亦很常见。'"
      ]
     },
     "execution_count": 11,
     "metadata": {},
     "output_type": "execute_result"
    }
   ],
   "source": [
    "# 把一句繁体字转换为简体汉字\n",
    "s = SnowNLP(u'「繁體字」「繁體中文」的叫法在臺灣亦很常見。')\n",
    "s.han      "
   ]
  },
  {
   "cell_type": "code",
   "execution_count": null,
   "metadata": {
    "collapsed": true
   },
   "outputs": [],
   "source": []
  },
  {
   "cell_type": "code",
   "execution_count": null,
   "metadata": {
    "collapsed": true
   },
   "outputs": [],
   "source": [
    "#用txt分析"
   ]
  },
  {
   "cell_type": "code",
   "execution_count": 78,
   "metadata": {
    "collapsed": true
   },
   "outputs": [],
   "source": [
    "text = u'''\n",
    "\n",
    "立法院今日凌晨三讀修正《農田水利會組織通則》，將農田水利會改官派，3000億資產全充公。修法被視為民進黨為打破國民黨派系的舉動，國民黨昨大動員上千人抗議，痛批民進黨強奪民財，開民主倒車。\n",
    "\n",
    "17水利會吶喊：「嘸通違背農民」\n",
    "國民黨拖延戰術 不敵民進黨人數優勢！農田水利會改官派\n",
    "民進黨向來認為農田水利會是國民黨發展地方組織的工具。立法院長蘇嘉全昨就說，水利會改制公務機關是蠻多人期待的改革方向，過去水利會選舉流於派系對決，對民主直選而言，「投票率僅兩成蠻奇怪。」\n",
    "\n",
    "農田水利會改制為公務機關後，不再民選各地水利會長。不過由於北市七星及瑠公水利會會長及委員任期到109年9月才屆滿，修法特別提供其他水利會長自動延任2年4個月條款。國民黨批這是為買通現任會長設計的條款。\n",
    "\n",
    "藍：政府依法當強盜\n",
    "\n",
    "民進黨為加速修法，12月15日將水利會修法逕付二讀，藍委曾銘宗批執政黨根本藐視委員審查權，罔顧程序正義。朝野昨下午針對此案協商，經歷一下午無共識，加上時力缺席，協商無效，變成純粹「討論會」。儘管只有三條文要修正，國民黨仍動員所有立委輪番發言，法案在今日凌晨完成三讀。\n",
    "\n",
    "農委會主委林聰賢表示，對現有員工保障、資產管理，農委會將推動兩階段修法（《農村建設及農田水利署組織法》、《農田水利會改制條例》及《農田水利法》），第一階段先停止選舉，將未來水利會所有機關改為公務機關化。\n",
    "\n",
    "國民黨團估計農田水利會現有資產約3000多億，原屬民產，改制後等於全部充公。藍委張麗善質疑，水利會是農民自發性捐助，財產自然為水利會全體會員共有，政府只是用預算支付部分費用，改官派根本是「政府依法當強盜！」\n",
    "\n",
    "綠：水權就是國家的\n",
    "\n",
    "藍委盧秀燕質疑，民進黨根本是為選舉，看誰錢多就沒收，看誰不聽話就換掉，「根本土匪行為！將來會不會也拿來對付農會、工會？」\n",
    "\n",
    "民進黨團總召柯建銘說，農田水利會是公法人，農水路是3、400年開墾而來，不是個人財產，水權就是屬於國家，所以修法沒剝奪人民財產。他說，現在17個農田水利會會長，只有4個是民進黨籍，會長延任到2020年9月30日，總統大選時這些國民黨籍會長還在任，民進黨沒任何政治計算，希望大家不要汙名化。\n",
    "\n",
    "昨支持改制的9個水利會、集結600人赴農委會開記者會，發表支持擴大灌區、同意水利會資產專款專用農田水利支出等「3支持」及「3同意」。農委會說，修法通過後，會再與水利會協調，今年底前出配套措施。\n",
    "\n",
    "針對水利會修法，孫文學校總校長張亞中表示，此次修法是「開民主倒車」、「政府權力獨斷」、「掠奪人民財產」，其心態是對權力與利益的貪婪，方便為其選舉綁椿。\n",
    "\n",
    "(中國時報)\n",
    "\n",
    "17水利會吶喊：「嘸通違背農民」\n",
    "國民黨拖延戰術 不敵民進黨人數優勢！農田水利會改官派\n",
    "\n",
    "'''"
   ]
  },
  {
   "cell_type": "code",
   "execution_count": 79,
   "metadata": {
    "collapsed": true
   },
   "outputs": [],
   "source": [
    "\n",
    "s = SnowNLP(text) "
   ]
  },
  {
   "cell_type": "code",
   "execution_count": 80,
   "metadata": {},
   "outputs": [
    {
     "data": {
      "text/plain": [
       "['會', '利', '水']"
      ]
     },
     "execution_count": 80,
     "metadata": {},
     "output_type": "execute_result"
    }
   ],
   "source": [
    "s.keywords(3)  # 计算这段话中的关键词"
   ]
  },
  {
   "cell_type": "code",
   "execution_count": 81,
   "metadata": {},
   "outputs": [
    {
     "data": {
      "text/plain": [
       "0.0"
      ]
     },
     "execution_count": 81,
     "metadata": {},
     "output_type": "execute_result"
    }
   ],
   "source": [
    "s.sentiments "
   ]
  },
  {
   "cell_type": "code",
   "execution_count": 82,
   "metadata": {},
   "outputs": [
    {
     "name": "stdout",
     "output_type": "stream",
     "text": [
      "0.0000\n"
     ]
    }
   ],
   "source": [
    " print(\"%.4f\" % s.sentiments ) "
   ]
  },
  {
   "cell_type": "code",
   "execution_count": 15,
   "metadata": {},
   "outputs": [
    {
     "data": {
      "text/plain": [
       "['因而它是计算机科学的一部分',\n",
       " '自然语言处理是计算机科学领域与人工智能领域中的一个重要方向',\n",
       " '自然语言处理是一门融语言学、计算机科学、数学于一体的科学']"
      ]
     },
     "execution_count": 15,
     "metadata": {},
     "output_type": "execute_result"
    }
   ],
   "source": [
    "s.summary(3) # 计算这段话的摘要（本质上是对这段话中的每个句子计算其重要程度，利用的是TextRank算法）"
   ]
  },
  {
   "cell_type": "code",
   "execution_count": null,
   "metadata": {
    "collapsed": true
   },
   "outputs": [],
   "source": []
  },
  {
   "cell_type": "code",
   "execution_count": 16,
   "metadata": {
    "collapsed": true
   },
   "outputs": [],
   "source": [
    "# 给定一组词汇\n",
    "s = SnowNLP([[u'这篇', u'文章'],\n",
    "             [u'那篇', u'论文'],\n",
    "             [u'这个']])"
   ]
  },
  {
   "cell_type": "code",
   "execution_count": 17,
   "metadata": {},
   "outputs": [
    {
     "data": {
      "text/plain": [
       "[{'文章': 1, '这篇': 1}, {'论文': 1, '那篇': 1}, {'这个': 1}]"
      ]
     },
     "execution_count": 17,
     "metadata": {},
     "output_type": "execute_result"
    }
   ],
   "source": [
    "# 计算词频（Term Frequency）\n",
    "s.tf"
   ]
  },
  {
   "cell_type": "code",
   "execution_count": 18,
   "metadata": {},
   "outputs": [
    {
     "data": {
      "text/plain": [
       "{'文章': 0.5108256237659907,\n",
       " '论文': 0.5108256237659907,\n",
       " '这个': 0.5108256237659907,\n",
       " '这篇': 0.5108256237659907,\n",
       " '那篇': 0.5108256237659907}"
      ]
     },
     "execution_count": 18,
     "metadata": {},
     "output_type": "execute_result"
    }
   ],
   "source": [
    "# 计算逆文档频率（Inverse Document Frequency）\n",
    "s.idf"
   ]
  },
  {
   "cell_type": "code",
   "execution_count": 19,
   "metadata": {},
   "outputs": [
    {
     "data": {
      "text/plain": [
       "[0.4686473612532025, 0, 0]"
      ]
     },
     "execution_count": 19,
     "metadata": {},
     "output_type": "execute_result"
    }
   ],
   "source": [
    "# 计算与另一组词语的相似度（Similarity）\n",
    "s.sim([u'文章'])"
   ]
  },
  {
   "cell_type": "code",
   "execution_count": null,
   "metadata": {
    "collapsed": true
   },
   "outputs": [],
   "source": []
  },
  {
   "cell_type": "code",
   "execution_count": 84,
   "metadata": {},
   "outputs": [
    {
     "name": "stderr",
     "output_type": "stream",
     "text": [
      "'sudo' 不是內部或外部命令、可執行的程式或批次檔。\n"
     ]
    }
   ],
   "source": []
  },
  {
   "cell_type": "code",
   "execution_count": 85,
   "metadata": {},
   "outputs": [
    {
     "name": "stdout",
     "output_type": "stream",
     "text": [
      "Collecting opencc\n",
      "  Downloading OpenCC-0.2.tar.gz\n",
      "    Complete output from command python setup.py egg_info:\n",
      "    Traceback (most recent call last):\n",
      "      File \"<string>\", line 1, in <module>\n",
      "      File \"C:\\Users\\Leo\\AppData\\Local\\Temp\\pip-build-fgv_ogab\\opencc\\setup.py\", line 19, in <module>\n",
      "        long_description=fread('README.rst'),\n",
      "      File \"C:\\Users\\Leo\\AppData\\Local\\Temp\\pip-build-fgv_ogab\\opencc\\setup.py\", line 10, in fread\n",
      "        return f.read()\n",
      "    UnicodeDecodeError: 'cp950' codec can't decode byte 0x9d in position 458: illegal multibyte sequence\n",
      "    \n",
      "    ----------------------------------------\n"
     ]
    },
    {
     "name": "stderr",
     "output_type": "stream",
     "text": [
      "Command \"python setup.py egg_info\" failed with error code 1 in C:\\Users\\Leo\\AppData\\Local\\Temp\\pip-build-fgv_ogab\\opencc\\\n"
     ]
    }
   ],
   "source": [
    "!pip install opencc"
   ]
  },
  {
   "cell_type": "code",
   "execution_count": null,
   "metadata": {
    "collapsed": true
   },
   "outputs": [],
   "source": []
  }
 ],
 "metadata": {
  "kernelspec": {
   "display_name": "Python 3",
   "language": "python",
   "name": "python3"
  },
  "language_info": {
   "codemirror_mode": {
    "name": "ipython",
    "version": 3
   },
   "file_extension": ".py",
   "mimetype": "text/x-python",
   "name": "python",
   "nbconvert_exporter": "python",
   "pygments_lexer": "ipython3",
   "version": "3.6.3"
  }
 },
 "nbformat": 4,
 "nbformat_minor": 2
}
